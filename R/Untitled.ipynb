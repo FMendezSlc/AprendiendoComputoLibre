{
 "cells": [
  {
   "cell_type": "code",
   "execution_count": 1,
   "metadata": {
    "collapsed": true
   },
   "outputs": [],
   "source": [
    "x<-5"
   ]
  },
  {
   "cell_type": "code",
   "execution_count": 2,
   "metadata": {
    "collapsed": false
   },
   "outputs": [
    {
     "data": {
      "text/html": [
       "<table>\n",
       "<thead><tr><th></th><th scope=col>mpg</th><th scope=col>cyl</th><th scope=col>disp</th><th scope=col>hp</th><th scope=col>drat</th><th scope=col>wt</th><th scope=col>qsec</th><th scope=col>vs</th><th scope=col>am</th><th scope=col>gear</th><th scope=col>carb</th></tr></thead>\n",
       "<tbody>\n",
       "\t<tr><th scope=row>Mazda RX4</th><td> 21.00</td><td>  6.00</td><td>160.00</td><td>110.00</td><td>  3.90</td><td>  2.62</td><td> 16.46</td><td>  0.00</td><td>  1.00</td><td>  4.00</td><td>  4.00</td></tr>\n",
       "\t<tr><th scope=row>Mazda RX4 Wag</th><td> 21.000</td><td>  6.000</td><td>160.000</td><td>110.000</td><td>  3.900</td><td>  2.875</td><td> 17.020</td><td>  0.000</td><td>  1.000</td><td>  4.000</td><td>  4.000</td></tr>\n",
       "\t<tr><th scope=row>Datsun 710</th><td> 22.80</td><td>  4.00</td><td>108.00</td><td> 93.00</td><td>  3.85</td><td>  2.32</td><td> 18.61</td><td>  1.00</td><td>  1.00</td><td>  4.00</td><td>  1.00</td></tr>\n",
       "\t<tr><th scope=row>Hornet 4 Drive</th><td> 21.400</td><td>  6.000</td><td>258.000</td><td>110.000</td><td>  3.080</td><td>  3.215</td><td> 19.440</td><td>  1.000</td><td>  0.000</td><td>  3.000</td><td>  1.000</td></tr>\n",
       "\t<tr><th scope=row>Hornet Sportabout</th><td> 18.70</td><td>  8.00</td><td>360.00</td><td>175.00</td><td>  3.15</td><td>  3.44</td><td> 17.02</td><td>  0.00</td><td>  0.00</td><td>  3.00</td><td>  2.00</td></tr>\n",
       "\t<tr><th scope=row>Valiant</th><td> 18.10</td><td>  6.00</td><td>225.00</td><td>105.00</td><td>  2.76</td><td>  3.46</td><td> 20.22</td><td>  1.00</td><td>  0.00</td><td>  3.00</td><td>  1.00</td></tr>\n",
       "\t<tr><th scope=row>Duster 360</th><td> 14.30</td><td>  8.00</td><td>360.00</td><td>245.00</td><td>  3.21</td><td>  3.57</td><td> 15.84</td><td>  0.00</td><td>  0.00</td><td>  3.00</td><td>  4.00</td></tr>\n",
       "\t<tr><th scope=row>Merc 240D</th><td> 24.40</td><td>  4.00</td><td>146.70</td><td> 62.00</td><td>  3.69</td><td>  3.19</td><td> 20.00</td><td>  1.00</td><td>  0.00</td><td>  4.00</td><td>  2.00</td></tr>\n",
       "\t<tr><th scope=row>Merc 230</th><td> 22.80</td><td>  4.00</td><td>140.80</td><td> 95.00</td><td>  3.92</td><td>  3.15</td><td> 22.90</td><td>  1.00</td><td>  0.00</td><td>  4.00</td><td>  2.00</td></tr>\n",
       "\t<tr><th scope=row>Merc 280</th><td> 19.20</td><td>  6.00</td><td>167.60</td><td>123.00</td><td>  3.92</td><td>  3.44</td><td> 18.30</td><td>  1.00</td><td>  0.00</td><td>  4.00</td><td>  4.00</td></tr>\n",
       "\t<tr><th scope=row>Merc 280C</th><td> 17.80</td><td>  6.00</td><td>167.60</td><td>123.00</td><td>  3.92</td><td>  3.44</td><td> 18.90</td><td>  1.00</td><td>  0.00</td><td>  4.00</td><td>  4.00</td></tr>\n",
       "\t<tr><th scope=row>Merc 450SE</th><td> 16.40</td><td>  8.00</td><td>275.80</td><td>180.00</td><td>  3.07</td><td>  4.07</td><td> 17.40</td><td>  0.00</td><td>  0.00</td><td>  3.00</td><td>  3.00</td></tr>\n",
       "\t<tr><th scope=row>Merc 450SL</th><td> 17.30</td><td>  8.00</td><td>275.80</td><td>180.00</td><td>  3.07</td><td>  3.73</td><td> 17.60</td><td>  0.00</td><td>  0.00</td><td>  3.00</td><td>  3.00</td></tr>\n",
       "\t<tr><th scope=row>Merc 450SLC</th><td> 15.20</td><td>  8.00</td><td>275.80</td><td>180.00</td><td>  3.07</td><td>  3.78</td><td> 18.00</td><td>  0.00</td><td>  0.00</td><td>  3.00</td><td>  3.00</td></tr>\n",
       "\t<tr><th scope=row>Cadillac Fleetwood</th><td> 10.40</td><td>  8.00</td><td>472.00</td><td>205.00</td><td>  2.93</td><td>  5.25</td><td> 17.98</td><td>  0.00</td><td>  0.00</td><td>  3.00</td><td>  4.00</td></tr>\n",
       "\t<tr><th scope=row>Lincoln Continental</th><td> 10.400</td><td>  8.000</td><td>460.000</td><td>215.000</td><td>  3.000</td><td>  5.424</td><td> 17.820</td><td>  0.000</td><td>  0.000</td><td>  3.000</td><td>  4.000</td></tr>\n",
       "\t<tr><th scope=row>Chrysler Imperial</th><td> 14.700</td><td>  8.000</td><td>440.000</td><td>230.000</td><td>  3.230</td><td>  5.345</td><td> 17.420</td><td>  0.000</td><td>  0.000</td><td>  3.000</td><td>  4.000</td></tr>\n",
       "\t<tr><th scope=row>Fiat 128</th><td>32.40</td><td> 4.00</td><td>78.70</td><td>66.00</td><td> 4.08</td><td> 2.20</td><td>19.47</td><td> 1.00</td><td> 1.00</td><td> 4.00</td><td> 1.00</td></tr>\n",
       "\t<tr><th scope=row>Honda Civic</th><td>30.400</td><td> 4.000</td><td>75.700</td><td>52.000</td><td> 4.930</td><td> 1.615</td><td>18.520</td><td> 1.000</td><td> 1.000</td><td> 4.000</td><td> 2.000</td></tr>\n",
       "\t<tr><th scope=row>Toyota Corolla</th><td>33.900</td><td> 4.000</td><td>71.100</td><td>65.000</td><td> 4.220</td><td> 1.835</td><td>19.900</td><td> 1.000</td><td> 1.000</td><td> 4.000</td><td> 1.000</td></tr>\n",
       "\t<tr><th scope=row>Toyota Corona</th><td> 21.500</td><td>  4.000</td><td>120.100</td><td> 97.000</td><td>  3.700</td><td>  2.465</td><td> 20.010</td><td>  1.000</td><td>  0.000</td><td>  3.000</td><td>  1.000</td></tr>\n",
       "\t<tr><th scope=row>Dodge Challenger</th><td> 15.50</td><td>  8.00</td><td>318.00</td><td>150.00</td><td>  2.76</td><td>  3.52</td><td> 16.87</td><td>  0.00</td><td>  0.00</td><td>  3.00</td><td>  2.00</td></tr>\n",
       "\t<tr><th scope=row>AMC Javelin</th><td> 15.200</td><td>  8.000</td><td>304.000</td><td>150.000</td><td>  3.150</td><td>  3.435</td><td> 17.300</td><td>  0.000</td><td>  0.000</td><td>  3.000</td><td>  2.000</td></tr>\n",
       "\t<tr><th scope=row>Camaro Z28</th><td> 13.30</td><td>  8.00</td><td>350.00</td><td>245.00</td><td>  3.73</td><td>  3.84</td><td> 15.41</td><td>  0.00</td><td>  0.00</td><td>  3.00</td><td>  4.00</td></tr>\n",
       "\t<tr><th scope=row>Pontiac Firebird</th><td> 19.200</td><td>  8.000</td><td>400.000</td><td>175.000</td><td>  3.080</td><td>  3.845</td><td> 17.050</td><td>  0.000</td><td>  0.000</td><td>  3.000</td><td>  2.000</td></tr>\n",
       "\t<tr><th scope=row>Fiat X1-9</th><td>27.300</td><td> 4.000</td><td>79.000</td><td>66.000</td><td> 4.080</td><td> 1.935</td><td>18.900</td><td> 1.000</td><td> 1.000</td><td> 4.000</td><td> 1.000</td></tr>\n",
       "\t<tr><th scope=row>Porsche 914-2</th><td> 26.00</td><td>  4.00</td><td>120.30</td><td> 91.00</td><td>  4.43</td><td>  2.14</td><td> 16.70</td><td>  0.00</td><td>  1.00</td><td>  5.00</td><td>  2.00</td></tr>\n",
       "\t<tr><th scope=row>Lotus Europa</th><td> 30.400</td><td>  4.000</td><td> 95.100</td><td>113.000</td><td>  3.770</td><td>  1.513</td><td> 16.900</td><td>  1.000</td><td>  1.000</td><td>  5.000</td><td>  2.000</td></tr>\n",
       "\t<tr><th scope=row>Ford Pantera L</th><td> 15.80</td><td>  8.00</td><td>351.00</td><td>264.00</td><td>  4.22</td><td>  3.17</td><td> 14.50</td><td>  0.00</td><td>  1.00</td><td>  5.00</td><td>  4.00</td></tr>\n",
       "\t<tr><th scope=row>Ferrari Dino</th><td> 19.70</td><td>  6.00</td><td>145.00</td><td>175.00</td><td>  3.62</td><td>  2.77</td><td> 15.50</td><td>  0.00</td><td>  1.00</td><td>  5.00</td><td>  6.00</td></tr>\n",
       "\t<tr><th scope=row>Maserati Bora</th><td> 15.00</td><td>  8.00</td><td>301.00</td><td>335.00</td><td>  3.54</td><td>  3.57</td><td> 14.60</td><td>  0.00</td><td>  1.00</td><td>  5.00</td><td>  8.00</td></tr>\n",
       "\t<tr><th scope=row>Volvo 142E</th><td> 21.40</td><td>  4.00</td><td>121.00</td><td>109.00</td><td>  4.11</td><td>  2.78</td><td> 18.60</td><td>  1.00</td><td>  1.00</td><td>  4.00</td><td>  2.00</td></tr>\n",
       "</tbody>\n",
       "</table>\n"
      ],
      "text/latex": [
       "\\begin{tabular}{r|lllllllllll}\n",
       "  & mpg & cyl & disp & hp & drat & wt & qsec & vs & am & gear & carb\\\\\n",
       "\\hline\n",
       "\tMazda RX4 &  21.00 &   6.00 & 160.00 & 110.00 &   3.90 &   2.62 &  16.46 &   0.00 &   1.00 &   4.00 &   4.00\\\\\n",
       "\tMazda RX4 Wag &  21.000 &   6.000 & 160.000 & 110.000 &   3.900 &   2.875 &  17.020 &   0.000 &   1.000 &   4.000 &   4.000\\\\\n",
       "\tDatsun 710 &  22.80 &   4.00 & 108.00 &  93.00 &   3.85 &   2.32 &  18.61 &   1.00 &   1.00 &   4.00 &   1.00\\\\\n",
       "\tHornet 4 Drive &  21.400 &   6.000 & 258.000 & 110.000 &   3.080 &   3.215 &  19.440 &   1.000 &   0.000 &   3.000 &   1.000\\\\\n",
       "\tHornet Sportabout &  18.70 &   8.00 & 360.00 & 175.00 &   3.15 &   3.44 &  17.02 &   0.00 &   0.00 &   3.00 &   2.00\\\\\n",
       "\tValiant &  18.10 &   6.00 & 225.00 & 105.00 &   2.76 &   3.46 &  20.22 &   1.00 &   0.00 &   3.00 &   1.00\\\\\n",
       "\tDuster 360 &  14.30 &   8.00 & 360.00 & 245.00 &   3.21 &   3.57 &  15.84 &   0.00 &   0.00 &   3.00 &   4.00\\\\\n",
       "\tMerc 240D &  24.40 &   4.00 & 146.70 &  62.00 &   3.69 &   3.19 &  20.00 &   1.00 &   0.00 &   4.00 &   2.00\\\\\n",
       "\tMerc 230 &  22.80 &   4.00 & 140.80 &  95.00 &   3.92 &   3.15 &  22.90 &   1.00 &   0.00 &   4.00 &   2.00\\\\\n",
       "\tMerc 280 &  19.20 &   6.00 & 167.60 & 123.00 &   3.92 &   3.44 &  18.30 &   1.00 &   0.00 &   4.00 &   4.00\\\\\n",
       "\tMerc 280C &  17.80 &   6.00 & 167.60 & 123.00 &   3.92 &   3.44 &  18.90 &   1.00 &   0.00 &   4.00 &   4.00\\\\\n",
       "\tMerc 450SE &  16.40 &   8.00 & 275.80 & 180.00 &   3.07 &   4.07 &  17.40 &   0.00 &   0.00 &   3.00 &   3.00\\\\\n",
       "\tMerc 450SL &  17.30 &   8.00 & 275.80 & 180.00 &   3.07 &   3.73 &  17.60 &   0.00 &   0.00 &   3.00 &   3.00\\\\\n",
       "\tMerc 450SLC &  15.20 &   8.00 & 275.80 & 180.00 &   3.07 &   3.78 &  18.00 &   0.00 &   0.00 &   3.00 &   3.00\\\\\n",
       "\tCadillac Fleetwood &  10.40 &   8.00 & 472.00 & 205.00 &   2.93 &   5.25 &  17.98 &   0.00 &   0.00 &   3.00 &   4.00\\\\\n",
       "\tLincoln Continental &  10.400 &   8.000 & 460.000 & 215.000 &   3.000 &   5.424 &  17.820 &   0.000 &   0.000 &   3.000 &   4.000\\\\\n",
       "\tChrysler Imperial &  14.700 &   8.000 & 440.000 & 230.000 &   3.230 &   5.345 &  17.420 &   0.000 &   0.000 &   3.000 &   4.000\\\\\n",
       "\tFiat 128 & 32.40 &  4.00 & 78.70 & 66.00 &  4.08 &  2.20 & 19.47 &  1.00 &  1.00 &  4.00 &  1.00\\\\\n",
       "\tHonda Civic & 30.400 &  4.000 & 75.700 & 52.000 &  4.930 &  1.615 & 18.520 &  1.000 &  1.000 &  4.000 &  2.000\\\\\n",
       "\tToyota Corolla & 33.900 &  4.000 & 71.100 & 65.000 &  4.220 &  1.835 & 19.900 &  1.000 &  1.000 &  4.000 &  1.000\\\\\n",
       "\tToyota Corona &  21.500 &   4.000 & 120.100 &  97.000 &   3.700 &   2.465 &  20.010 &   1.000 &   0.000 &   3.000 &   1.000\\\\\n",
       "\tDodge Challenger &  15.50 &   8.00 & 318.00 & 150.00 &   2.76 &   3.52 &  16.87 &   0.00 &   0.00 &   3.00 &   2.00\\\\\n",
       "\tAMC Javelin &  15.200 &   8.000 & 304.000 & 150.000 &   3.150 &   3.435 &  17.300 &   0.000 &   0.000 &   3.000 &   2.000\\\\\n",
       "\tCamaro Z28 &  13.30 &   8.00 & 350.00 & 245.00 &   3.73 &   3.84 &  15.41 &   0.00 &   0.00 &   3.00 &   4.00\\\\\n",
       "\tPontiac Firebird &  19.200 &   8.000 & 400.000 & 175.000 &   3.080 &   3.845 &  17.050 &   0.000 &   0.000 &   3.000 &   2.000\\\\\n",
       "\tFiat X1-9 & 27.300 &  4.000 & 79.000 & 66.000 &  4.080 &  1.935 & 18.900 &  1.000 &  1.000 &  4.000 &  1.000\\\\\n",
       "\tPorsche 914-2 &  26.00 &   4.00 & 120.30 &  91.00 &   4.43 &   2.14 &  16.70 &   0.00 &   1.00 &   5.00 &   2.00\\\\\n",
       "\tLotus Europa &  30.400 &   4.000 &  95.100 & 113.000 &   3.770 &   1.513 &  16.900 &   1.000 &   1.000 &   5.000 &   2.000\\\\\n",
       "\tFord Pantera L &  15.80 &   8.00 & 351.00 & 264.00 &   4.22 &   3.17 &  14.50 &   0.00 &   1.00 &   5.00 &   4.00\\\\\n",
       "\tFerrari Dino &  19.70 &   6.00 & 145.00 & 175.00 &   3.62 &   2.77 &  15.50 &   0.00 &   1.00 &   5.00 &   6.00\\\\\n",
       "\tMaserati Bora &  15.00 &   8.00 & 301.00 & 335.00 &   3.54 &   3.57 &  14.60 &   0.00 &   1.00 &   5.00 &   8.00\\\\\n",
       "\tVolvo 142E &  21.40 &   4.00 & 121.00 & 109.00 &   4.11 &   2.78 &  18.60 &   1.00 &   1.00 &   4.00 &   2.00\\\\\n",
       "\\end{tabular}\n"
      ],
      "text/plain": [
       "                     mpg cyl  disp  hp drat    wt  qsec vs am gear carb\n",
       "Mazda RX4           21.0   6 160.0 110 3.90 2.620 16.46  0  1    4    4\n",
       "Mazda RX4 Wag       21.0   6 160.0 110 3.90 2.875 17.02  0  1    4    4\n",
       "Datsun 710          22.8   4 108.0  93 3.85 2.320 18.61  1  1    4    1\n",
       "Hornet 4 Drive      21.4   6 258.0 110 3.08 3.215 19.44  1  0    3    1\n",
       "Hornet Sportabout   18.7   8 360.0 175 3.15 3.440 17.02  0  0    3    2\n",
       "Valiant             18.1   6 225.0 105 2.76 3.460 20.22  1  0    3    1\n",
       "Duster 360          14.3   8 360.0 245 3.21 3.570 15.84  0  0    3    4\n",
       "Merc 240D           24.4   4 146.7  62 3.69 3.190 20.00  1  0    4    2\n",
       "Merc 230            22.8   4 140.8  95 3.92 3.150 22.90  1  0    4    2\n",
       "Merc 280            19.2   6 167.6 123 3.92 3.440 18.30  1  0    4    4\n",
       "Merc 280C           17.8   6 167.6 123 3.92 3.440 18.90  1  0    4    4\n",
       "Merc 450SE          16.4   8 275.8 180 3.07 4.070 17.40  0  0    3    3\n",
       "Merc 450SL          17.3   8 275.8 180 3.07 3.730 17.60  0  0    3    3\n",
       "Merc 450SLC         15.2   8 275.8 180 3.07 3.780 18.00  0  0    3    3\n",
       "Cadillac Fleetwood  10.4   8 472.0 205 2.93 5.250 17.98  0  0    3    4\n",
       "Lincoln Continental 10.4   8 460.0 215 3.00 5.424 17.82  0  0    3    4\n",
       "Chrysler Imperial   14.7   8 440.0 230 3.23 5.345 17.42  0  0    3    4\n",
       "Fiat 128            32.4   4  78.7  66 4.08 2.200 19.47  1  1    4    1\n",
       "Honda Civic         30.4   4  75.7  52 4.93 1.615 18.52  1  1    4    2\n",
       "Toyota Corolla      33.9   4  71.1  65 4.22 1.835 19.90  1  1    4    1\n",
       "Toyota Corona       21.5   4 120.1  97 3.70 2.465 20.01  1  0    3    1\n",
       "Dodge Challenger    15.5   8 318.0 150 2.76 3.520 16.87  0  0    3    2\n",
       "AMC Javelin         15.2   8 304.0 150 3.15 3.435 17.30  0  0    3    2\n",
       "Camaro Z28          13.3   8 350.0 245 3.73 3.840 15.41  0  0    3    4\n",
       "Pontiac Firebird    19.2   8 400.0 175 3.08 3.845 17.05  0  0    3    2\n",
       "Fiat X1-9           27.3   4  79.0  66 4.08 1.935 18.90  1  1    4    1\n",
       "Porsche 914-2       26.0   4 120.3  91 4.43 2.140 16.70  0  1    5    2\n",
       "Lotus Europa        30.4   4  95.1 113 3.77 1.513 16.90  1  1    5    2\n",
       "Ford Pantera L      15.8   8 351.0 264 4.22 3.170 14.50  0  1    5    4\n",
       "Ferrari Dino        19.7   6 145.0 175 3.62 2.770 15.50  0  1    5    6\n",
       "Maserati Bora       15.0   8 301.0 335 3.54 3.570 14.60  0  1    5    8\n",
       "Volvo 142E          21.4   4 121.0 109 4.11 2.780 18.60  1  1    4    2"
      ]
     },
     "metadata": {},
     "output_type": "display_data"
    }
   ],
   "source": [
    "mtcars"
   ]
  },
  {
   "cell_type": "code",
   "execution_count": 3,
   "metadata": {
    "collapsed": false
   },
   "outputs": [
    {
     "data": {
      "text/html": [
       "<ol class=list-inline>\n",
       "\t<li>6</li>\n",
       "\t<li>6</li>\n",
       "\t<li>4</li>\n",
       "\t<li>6</li>\n",
       "\t<li>8</li>\n",
       "\t<li>6</li>\n",
       "\t<li>8</li>\n",
       "\t<li>4</li>\n",
       "\t<li>4</li>\n",
       "\t<li>6</li>\n",
       "\t<li>6</li>\n",
       "\t<li>8</li>\n",
       "\t<li>8</li>\n",
       "\t<li>8</li>\n",
       "\t<li>8</li>\n",
       "\t<li>8</li>\n",
       "\t<li>8</li>\n",
       "\t<li>4</li>\n",
       "\t<li>4</li>\n",
       "\t<li>4</li>\n",
       "\t<li>4</li>\n",
       "\t<li>8</li>\n",
       "\t<li>8</li>\n",
       "\t<li>8</li>\n",
       "\t<li>8</li>\n",
       "\t<li>4</li>\n",
       "\t<li>4</li>\n",
       "\t<li>4</li>\n",
       "\t<li>8</li>\n",
       "\t<li>6</li>\n",
       "\t<li>8</li>\n",
       "\t<li>4</li>\n",
       "</ol>\n"
      ],
      "text/latex": [
       "\\begin{enumerate*}\n",
       "\\item 6\n",
       "\\item 6\n",
       "\\item 4\n",
       "\\item 6\n",
       "\\item 8\n",
       "\\item 6\n",
       "\\item 8\n",
       "\\item 4\n",
       "\\item 4\n",
       "\\item 6\n",
       "\\item 6\n",
       "\\item 8\n",
       "\\item 8\n",
       "\\item 8\n",
       "\\item 8\n",
       "\\item 8\n",
       "\\item 8\n",
       "\\item 4\n",
       "\\item 4\n",
       "\\item 4\n",
       "\\item 4\n",
       "\\item 8\n",
       "\\item 8\n",
       "\\item 8\n",
       "\\item 8\n",
       "\\item 4\n",
       "\\item 4\n",
       "\\item 4\n",
       "\\item 8\n",
       "\\item 6\n",
       "\\item 8\n",
       "\\item 4\n",
       "\\end{enumerate*}\n"
      ],
      "text/markdown": [
       "1. 6\n",
       "2. 6\n",
       "3. 4\n",
       "4. 6\n",
       "5. 8\n",
       "6. 6\n",
       "7. 8\n",
       "8. 4\n",
       "9. 4\n",
       "10. 6\n",
       "11. 6\n",
       "12. 8\n",
       "13. 8\n",
       "14. 8\n",
       "15. 8\n",
       "16. 8\n",
       "17. 8\n",
       "18. 4\n",
       "19. 4\n",
       "20. 4\n",
       "21. 4\n",
       "22. 8\n",
       "23. 8\n",
       "24. 8\n",
       "25. 8\n",
       "26. 4\n",
       "27. 4\n",
       "28. 4\n",
       "29. 8\n",
       "30. 6\n",
       "31. 8\n",
       "32. 4\n",
       "\n",
       "\n"
      ],
      "text/plain": [
       " [1] 6 6 4 6 8 6 8 4 4 6 6 8 8 8 8 8 8 4 4 4 4 8 8 8 8 4 4 4 8 6 8 4"
      ]
     },
     "metadata": {},
     "output_type": "display_data"
    }
   ],
   "source": [
    "mtcars$cyl"
   ]
  },
  {
   "cell_type": "code",
   "execution_count": 4,
   "metadata": {
    "collapsed": true
   },
   "outputs": [],
   "source": [
    "x<-mtcars$cyl\n",
    "y<-mtcars$gear"
   ]
  },
  {
   "cell_type": "code",
   "execution_count": 8,
   "metadata": {
    "collapsed": false
   },
   "outputs": [
    {
     "data": {
      "image/png": "[encoded data removed]",
      "text/plain": [
       "plot without title"
      ]
     },
     "metadata": {},
     "output_type": "display_data"
    }
   ],
   "source": [
    "plot(x,y)\n",
    "lines(x,y)"
   ]
  },
  {
   "cell_type": "markdown",
   "metadata": {},
   "source": [
    "$$\\int x dx =x^2$$"
   ]
  },
  {
   "cell_type": "code",
   "execution_count": null,
   "metadata": {
    "collapsed": true
   },
   "outputs": [],
   "source": []
  }
 ],
 "metadata": {
  "anaconda-cloud": {},
  "kernelspec": {
   "display_name": "R",
   "language": "R",
   "name": "ir"
  },
  "language_info": {
   "codemirror_mode": "r",
   "file_extension": ".r",
   "mimetype": "text/x-r-source",
   "name": "R",
   "pygments_lexer": "r",
   "version": "3.3.1"
  }
 },
 "nbformat": 4,
 "nbformat_minor": 1
}
