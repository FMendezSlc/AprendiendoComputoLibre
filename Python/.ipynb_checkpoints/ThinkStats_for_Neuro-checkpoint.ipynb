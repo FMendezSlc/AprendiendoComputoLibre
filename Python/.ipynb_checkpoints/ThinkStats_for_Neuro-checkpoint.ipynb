{
 "cells": [
  {
   "cell_type": "markdown",
   "metadata": {},
   "source": [
    "## Think Stats meets Neuroelectro"
   ]
  },
  {
   "cell_type": "markdown",
   "metadata": {},
   "source": [
    "Think Stats is a great introductory book on statistics using Python by Allen Downey, professor at Ollin College.\n",
    "\n",
    "It is freely available in several formats at: https://greenteapress.com/wp/think-stats-2e/\n",
    "\n",
    "You may also buy a hard copy from online resellers or find other ways to contribute or support the author. I recomend this book very much to any student interested in data analysis and statistics. Specially if Python is already the tool of choice for such tasks, as the book uses this language in the development of excercises and examples. In this sense, the book is also a great way to dive deeper into Python programming for data science and acquire, or improve, new programming skills.\n",
    "\n",
    "\n",
    "While the second edition of Think Stats presents a great introduction to many statistical and probability concepts and practical approaches, the examples and case studies used in the book are quite distant for the general interests of the neuroscientist in training. Namely, the book revoles around datasets from NIH dealing with census data and such. This is not necessarily a bad thing as you can perfectly learn from this examples as well as from any other. But, as the intention of this resource is to provide a primer to data analysis and programming for the student in the neuro related fields, I think a verison of the contents of the book dealing with neurophisiology data would be of great interest and utility.\n",
    "\n",
    "So I hope you find this resource useful."
   ]
  },
  {
   "cell_type": "code",
   "execution_count": null,
   "metadata": {},
   "outputs": [],
   "source": []
  }
 ],
 "metadata": {
  "kernelspec": {
   "display_name": "Python 3",
   "language": "python",
   "name": "python3"
  },
  "language_info": {
   "codemirror_mode": {
    "name": "ipython",
    "version": 3
   },
   "file_extension": ".py",
   "mimetype": "text/x-python",
   "name": "python",
   "nbconvert_exporter": "python",
   "pygments_lexer": "ipython3",
   "version": "3.8.2"
  }
 },
 "nbformat": 4,
 "nbformat_minor": 4
}
